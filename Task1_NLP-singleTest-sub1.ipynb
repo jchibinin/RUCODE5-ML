{
 "cells": [
  {
   "cell_type": "code",
   "execution_count": 1,
   "id": "8e103d3e",
   "metadata": {},
   "outputs": [
    {
     "ename": "ModuleNotFoundError",
     "evalue": "No module named 'textblob'",
     "output_type": "error",
     "traceback": [
      "\u001b[1;31m---------------------------------------------------------------------------\u001b[0m",
      "\u001b[1;31mModuleNotFoundError\u001b[0m                       Traceback (most recent call last)",
      "\u001b[1;32m~\\AppData\\Local\\Temp/ipykernel_320/2637534227.py\u001b[0m in \u001b[0;36m<module>\u001b[1;34m\u001b[0m\n\u001b[0;32m      3\u001b[0m \u001b[1;32mimport\u001b[0m \u001b[0mos\u001b[0m\u001b[1;33m\u001b[0m\u001b[1;33m\u001b[0m\u001b[0m\n\u001b[0;32m      4\u001b[0m \u001b[1;32mimport\u001b[0m \u001b[0mre\u001b[0m\u001b[1;33m\u001b[0m\u001b[1;33m\u001b[0m\u001b[0m\n\u001b[1;32m----> 5\u001b[1;33m \u001b[1;32mfrom\u001b[0m \u001b[0mtextblob\u001b[0m \u001b[1;32mimport\u001b[0m \u001b[0mTextBlob\u001b[0m\u001b[1;33m\u001b[0m\u001b[1;33m\u001b[0m\u001b[0m\n\u001b[0m\u001b[0;32m      6\u001b[0m \u001b[1;32mfrom\u001b[0m \u001b[0msklearn\u001b[0m \u001b[1;32mimport\u001b[0m \u001b[0mpreprocessing\u001b[0m\u001b[1;33m\u001b[0m\u001b[1;33m\u001b[0m\u001b[0m\n\u001b[0;32m      7\u001b[0m \u001b[1;32mfrom\u001b[0m \u001b[0mcatboost\u001b[0m \u001b[1;32mimport\u001b[0m \u001b[0mCatBoostClassifier\u001b[0m\u001b[1;33m,\u001b[0m \u001b[0mCatBoostRegressor\u001b[0m\u001b[1;33m,\u001b[0m \u001b[0mCatBoost\u001b[0m\u001b[1;33m,\u001b[0m \u001b[0mPool\u001b[0m\u001b[1;33m\u001b[0m\u001b[1;33m\u001b[0m\u001b[0m\n",
      "\u001b[1;31mModuleNotFoundError\u001b[0m: No module named 'textblob'"
     ]
    }
   ],
   "source": [
    "import numpy as np\n",
    "import pandas as pd\n",
    "import os\n",
    "import re\n",
    "from textblob import TextBlob\n",
    "from sklearn import preprocessing\n",
    "from catboost import CatBoostClassifier, CatBoostRegressor, CatBoost, Pool\n",
    "from sklearn.model_selection import StratifiedKFold\n",
    "from sklearn.metrics import roc_auc_score, accuracy_score, mean_absolute_error\n",
    "from sklearn.model_selection import train_test_split\n"
   ]
  },
  {
   "cell_type": "code",
   "execution_count": null,
   "id": "82c9a224",
   "metadata": {},
   "outputs": [],
   "source": [
    "def clear_text(text):\n",
    "    text = re.sub('[^a-zA-Z]', ' ', text)\n",
    "    text = text.lower()\n",
    "    return text\n"
   ]
  },
  {
   "cell_type": "code",
   "execution_count": 66,
   "id": "1ef22a0a",
   "metadata": {},
   "outputs": [],
   "source": [
    "def label_encoding(train: pd.DataFrame, test: pd.DataFrame, col_definition: dict):\n",
    "    \"\"\"\n",
    "    col_definition: encode_col\n",
    "    \"\"\"\n",
    "    n_train = len(train)\n",
    "    train = pd.concat([train, test], sort=False).reset_index(drop=True)\n",
    "    for f in col_definition['encode_col']:\n",
    "        try:\n",
    "            lbl = preprocessing.LabelEncoder()\n",
    "            train[f] = lbl.fit_transform(list(train[f].values))\n",
    "        except:\n",
    "            print(f)\n",
    "    test = train[n_train:].reset_index(drop=True)\n",
    "    train = train[:n_train]\n",
    "    return train, test"
   ]
  },
  {
   "cell_type": "code",
   "execution_count": 67,
   "id": "69fdd3d8",
   "metadata": {},
   "outputs": [],
   "source": [
    "#urls\n",
    "def change_url(label):\n",
    "  m = re.search('https?://([A-Za-z_0-9.-]+)/', label)\n",
    "  if m:\n",
    "    label = m.group(1)\n",
    "  return(label)  "
   ]
  },
  {
   "cell_type": "code",
   "execution_count": 68,
   "id": "a2fd7270",
   "metadata": {},
   "outputs": [],
   "source": [
    "#transtate\n",
    "def traslate_text(text):\n",
    " try:\n",
    "   text_ret = TextBlob(text).translate(to='en')\n",
    " except Exception as e:\n",
    "   text_ret = text\n",
    " return(str(text_ret))"
   ]
  },
  {
   "cell_type": "code",
   "execution_count": 69,
   "id": "f786b761",
   "metadata": {},
   "outputs": [],
   "source": [
    "train = pd.read_csv('E:/juniper_notebooks/Task1_NLP/input/articles_train.csv')\n",
    "test = pd.read_csv('E:/juniper_notebooks/Task1_NLP/input/articles_test.csv')\n",
    "sub = pd.read_csv('E:/juniper_notebooks/Task1_NLP/input/sample_submission.csv')"
   ]
  },
  {
   "cell_type": "code",
   "execution_count": 70,
   "id": "6cebe74b",
   "metadata": {},
   "outputs": [],
   "source": [
    "train['claps'].fillna(0)\n",
    "train['claps'] = train['claps'].astype(int)\n",
    "train['claps'] = train['claps'].map(lambda b: (b // 50)*50)\n",
    "\n",
    "train['reading_time'].fillna(0)\n",
    "train['reading_time'] = train['reading_time'].astype(int)\n",
    "train['reading_time'] = train['reading_time'].map(lambda b: (b // 5)*5)\n",
    "\n",
    "train['link'] = train['link'].map(lambda b: change_url(b))\n",
    "test['link'] = test['link'].map(lambda b: change_url(b))\n",
    "\n",
    "train['text'] = train['text'].map(lambda b: traslate_text(b))\n",
    "test['text'] = test['text'].map(lambda b: traslate_text(b))\n",
    "\n",
    "train['text'] = train['text'].map(lambda b: clear_text(b))\n",
    "test['text'] = test['text'].map(lambda b: clear_text(b))"
   ]
  },
  {
   "cell_type": "code",
   "execution_count": 71,
   "id": "27374251",
   "metadata": {},
   "outputs": [],
   "source": [
    "def value_to_float(x):\n",
    "    if type(x) == float or type(x) == int:\n",
    "        return x\n",
    "    if 'K' in x:\n",
    "        if len(x) > 1:\n",
    "            return float(x.replace('K', '')) * 1000\n",
    "        return 1000.0\n",
    "    if 'M' in x:\n",
    "        if len(x) > 1:\n",
    "            return float(x.replace('M', '')) * 1000000\n",
    "        return 1000000.0\n",
    "    if 'B' in x:\n",
    "        return float(x.replace('B', '')) * 1000000000\n",
    "    return 0.0\n",
    "\n",
    "def findFollwers(text):\n",
    " m = re.search('([A-Za-z_0-9.-]+) Followers', text)\n",
    " if m:\n",
    "    sum = m[1]\n",
    "    return sum\n",
    " \n",
    " return \"0\"  \n",
    "\n",
    "train['folowers'] = train['text'].apply(findFollwers).apply(value_to_float)\n",
    "test['folowers'] = train['text'].apply(findFollwers).apply(value_to_float)"
   ]
  },
  {
   "cell_type": "code",
   "execution_count": 72,
   "id": "b10f218f",
   "metadata": {},
   "outputs": [],
   "source": [
    "target_col = 'claps'\n",
    "text_cols = ['text']\n",
    "categorical_cols = ['author', 'link']\n",
    "num_cols = ['reading_time', 'folowers']"
   ]
  },
  {
   "cell_type": "code",
   "execution_count": 73,
   "id": "14a92998",
   "metadata": {},
   "outputs": [],
   "source": [
    "train, test = label_encoding(train, test, col_definition={'encode_col': categorical_cols})"
   ]
  },
  {
   "cell_type": "code",
   "execution_count": 74,
   "id": "793083fe",
   "metadata": {},
   "outputs": [],
   "source": [
    "X_train = train[text_cols + categorical_cols + num_cols]\n",
    "y_train = train[target_col].values\n",
    "X_test = test[text_cols + categorical_cols + num_cols]"
   ]
  },
  {
   "cell_type": "code",
   "execution_count": 100,
   "id": "4643ab6a",
   "metadata": {},
   "outputs": [
    {
     "name": "stderr",
     "output_type": "stream",
     "text": [
      "E:\\anaconda3\\lib\\site-packages\\sklearn\\model_selection\\_split.py:666: UserWarning: The least populated class in y has only 1 members, which is less than n_splits=30.\n",
      "  warnings.warn((\"The least populated class in y has only %d\"\n",
      "Custom logger is already specified. Specify more than one logger at same time is not thread safe.Found only 138 unique classes in the data, but have defined 3756 classes. Probably something is wrong with data.\n",
      "Label(s) 3087, 1443 are not present in the train set. Perhaps, something is wrong with the data.\n",
      "Found only 139 unique classes in the data, but have defined 3756 classes. Probably something is wrong with data.\n",
      "Label(s) 3162 are not present in the train set. Perhaps, something is wrong with the data.\n",
      "Found only 139 unique classes in the data, but have defined 3756 classes. Probably something is wrong with data.\n",
      "Label(s) 3364 are not present in the train set. Perhaps, something is wrong with the data.\n",
      "Found only 138 unique classes in the data, but have defined 3756 classes. Probably something is wrong with data.\n",
      "Label(s) 218, 3404 are not present in the train set. Perhaps, something is wrong with the data.\n",
      "Found only 138 unique classes in the data, but have defined 3756 classes. Probably something is wrong with data.\n",
      "Label(s) 3524, 1940 are not present in the train set. Perhaps, something is wrong with the data.\n",
      "Found only 138 unique classes in the data, but have defined 3756 classes. Probably something is wrong with data.\n",
      "Label(s) 2013, 3737 are not present in the train set. Perhaps, something is wrong with the data.\n",
      "Found only 140 unique classes in the data, but have defined 3756 classes. Probably something is wrong with data.\n",
      "Found only 140 unique classes in the data, but have defined 3756 classes. Probably something is wrong with data.\n",
      "Found only 140 unique classes in the data, but have defined 3756 classes. Probably something is wrong with data.\n",
      "Found only 140 unique classes in the data, but have defined 3756 classes. Probably something is wrong with data.\n",
      "Found only 140 unique classes in the data, but have defined 3756 classes. Probably something is wrong with data.\n",
      "Found only 138 unique classes in the data, but have defined 3756 classes. Probably something is wrong with data.\n",
      "Label(s) 118, 486 are not present in the train set. Perhaps, something is wrong with the data.\n",
      "Found only 139 unique classes in the data, but have defined 3756 classes. Probably something is wrong with data.\n",
      "Label(s) 2093 are not present in the train set. Perhaps, something is wrong with the data.\n",
      "Found only 139 unique classes in the data, but have defined 3756 classes. Probably something is wrong with data.\n",
      "Label(s) 2348 are not present in the train set. Perhaps, something is wrong with the data.\n",
      "Found only 140 unique classes in the data, but have defined 3756 classes. Probably something is wrong with data.\n",
      "Found only 140 unique classes in the data, but have defined 3756 classes. Probably something is wrong with data.\n",
      "Found only 139 unique classes in the data, but have defined 3756 classes. Probably something is wrong with data.\n",
      "Label(s) 2383 are not present in the train set. Perhaps, something is wrong with the data.\n",
      "Found only 140 unique classes in the data, but have defined 3756 classes. Probably something is wrong with data.\n",
      "Found only 140 unique classes in the data, but have defined 3756 classes. Probably something is wrong with data.\n",
      "Found only 140 unique classes in the data, but have defined 3756 classes. Probably something is wrong with data.\n",
      "Found only 139 unique classes in the data, but have defined 3756 classes. Probably something is wrong with data.\n",
      "Label(s) 25 are not present in the train set. Perhaps, something is wrong with the data.\n",
      "Found only 139 unique classes in the data, but have defined 3756 classes. Probably something is wrong with data.\n",
      "Label(s) 2642 are not present in the train set. Perhaps, something is wrong with the data.\n",
      "Found only 137 unique classes in the data, but have defined 3756 classes. Probably something is wrong with data.\n",
      "Label(s) 2696, 1562, 861 are not present in the train set. Perhaps, something is wrong with the data.\n",
      "Found only 138 unique classes in the data, but have defined 3756 classes. Probably something is wrong with data.\n",
      "Label(s) 2762, 1572 are not present in the train set. Perhaps, something is wrong with the data.\n",
      "Found only 138 unique classes in the data, but have defined 3756 classes. Probably something is wrong with data.\n",
      "Label(s) 1580, 2785 are not present in the train set. Perhaps, something is wrong with the data.\n",
      "Found only 139 unique classes in the data, but have defined 3756 classes. Probably something is wrong with data.\n",
      "Label(s) 2815 are not present in the train set. Perhaps, something is wrong with the data.\n",
      "Found only 139 unique classes in the data, but have defined 3756 classes. Probably something is wrong with data.\n",
      "Label(s) 37 are not present in the train set. Perhaps, something is wrong with the data.\n",
      "Found only 140 unique classes in the data, but have defined 3756 classes. Probably something is wrong with data.\n",
      "Found only 140 unique classes in the data, but have defined 3756 classes. Probably something is wrong with data.\n",
      "Found only 139 unique classes in the data, but have defined 3756 classes. Probably something is wrong with data.\n",
      "Label(s) 1418 are not present in the train set. Perhaps, something is wrong with the data.\n"
     ]
    }
   ],
   "source": [
    "#OOF\n",
    "y_preds = []\n",
    "models = []\n",
    "oof_train = np.zeros((len(X_train),))\n",
    "cv = StratifiedKFold(n_splits=30, shuffle=True, random_state=0)\n",
    "\n",
    "catboost_params = {\n",
    "    'task_type': 'GPU',\n",
    "    'early_stopping_rounds': 10,\n",
    "    'use_best_model': True,\n",
    "    'verbose': False,\n",
    "    'class_names': y_train\n",
    "}\n",
    "\n",
    "for fold_id, (train_index, valid_index) in enumerate(cv.split(X_train, y_train)):\n",
    "    \n",
    "    X_tr = X_train.loc[train_index, :]\n",
    "    X_val = X_train.loc[valid_index, :]\n",
    "    y_tr = y_train[train_index]\n",
    "    y_val = y_train[valid_index]\n",
    "    \n",
    "    train_pool = Pool(\n",
    "        X_tr, \n",
    "        y_tr, \n",
    "        cat_features=categorical_cols,\n",
    "        text_features=text_cols,\n",
    "        feature_names=list(X_tr)\n",
    "    )\n",
    "    valid_pool = Pool(\n",
    "        X_val, \n",
    "        y_val, \n",
    "        cat_features=categorical_cols,\n",
    "        text_features=text_cols,\n",
    "        feature_names=list(X_tr)\n",
    "    )\n",
    "\n",
    "    model = CatBoostClassifier(**catboost_params)\n",
    "    model.fit(train_pool, eval_set=valid_pool)\n",
    "    y_preds.append(model.predict(X_test))\n",
    "                   \n",
    "    models.append(model)"
   ]
  },
  {
   "cell_type": "code",
   "execution_count": 101,
   "id": "79c0a240",
   "metadata": {},
   "outputs": [],
   "source": [
    "y_sub = sum(y_preds) / len(y_preds)"
   ]
  },
  {
   "cell_type": "code",
   "execution_count": 138,
   "id": "3a1f29fe",
   "metadata": {},
   "outputs": [
    {
     "data": {
      "text/html": [
       "<div>\n",
       "<style scoped>\n",
       "    .dataframe tbody tr th:only-of-type {\n",
       "        vertical-align: middle;\n",
       "    }\n",
       "\n",
       "    .dataframe tbody tr th {\n",
       "        vertical-align: top;\n",
       "    }\n",
       "\n",
       "    .dataframe thead th {\n",
       "        text-align: right;\n",
       "    }\n",
       "</style>\n",
       "<table border=\"1\" class=\"dataframe\">\n",
       "  <thead>\n",
       "    <tr style=\"text-align: right;\">\n",
       "      <th></th>\n",
       "      <th>claps</th>\n",
       "    </tr>\n",
       "    <tr>\n",
       "      <th>id</th>\n",
       "      <th></th>\n",
       "    </tr>\n",
       "  </thead>\n",
       "  <tbody>\n",
       "    <tr>\n",
       "      <th>3756</th>\n",
       "      <td>58</td>\n",
       "    </tr>\n",
       "    <tr>\n",
       "      <th>3757</th>\n",
       "      <td>8600</td>\n",
       "    </tr>\n",
       "    <tr>\n",
       "      <th>3758</th>\n",
       "      <td>1</td>\n",
       "    </tr>\n",
       "    <tr>\n",
       "      <th>3759</th>\n",
       "      <td>0</td>\n",
       "    </tr>\n",
       "    <tr>\n",
       "      <th>3760</th>\n",
       "      <td>0</td>\n",
       "    </tr>\n",
       "    <tr>\n",
       "      <th>...</th>\n",
       "      <td>...</td>\n",
       "    </tr>\n",
       "    <tr>\n",
       "      <th>4251</th>\n",
       "      <td>0</td>\n",
       "    </tr>\n",
       "    <tr>\n",
       "      <th>4252</th>\n",
       "      <td>110</td>\n",
       "    </tr>\n",
       "    <tr>\n",
       "      <th>4253</th>\n",
       "      <td>48</td>\n",
       "    </tr>\n",
       "    <tr>\n",
       "      <th>4254</th>\n",
       "      <td>0</td>\n",
       "    </tr>\n",
       "    <tr>\n",
       "      <th>4255</th>\n",
       "      <td>4000</td>\n",
       "    </tr>\n",
       "  </tbody>\n",
       "</table>\n",
       "<p>500 rows × 1 columns</p>\n",
       "</div>"
      ],
      "text/plain": [
       "      claps\n",
       "id         \n",
       "3756     58\n",
       "3757   8600\n",
       "3758      1\n",
       "3759      0\n",
       "3760      0\n",
       "...     ...\n",
       "4251      0\n",
       "4252    110\n",
       "4253     48\n",
       "4254      0\n",
       "4255   4000\n",
       "\n",
       "[500 rows x 1 columns]"
      ]
     },
     "execution_count": 138,
     "metadata": {},
     "output_type": "execute_result"
    }
   ],
   "source": [
    "sub"
   ]
  },
  {
   "cell_type": "code",
   "execution_count": 135,
   "id": "b3bfc815",
   "metadata": {},
   "outputs": [],
   "source": [
    "sub['claps'] = np.reshape(y_sub, (500, 1)).astype('int')"
   ]
  },
  {
   "cell_type": "code",
   "execution_count": 129,
   "id": "12754a8f",
   "metadata": {},
   "outputs": [],
   "source": [
    "sub.to_csv('submission.csv')"
   ]
  },
  {
   "cell_type": "code",
   "execution_count": null,
   "id": "981007c4",
   "metadata": {},
   "outputs": [],
   "source": []
  }
 ],
 "metadata": {
  "kernelspec": {
   "display_name": "Python 3 (ipykernel)",
   "language": "python",
   "name": "python3"
  },
  "language_info": {
   "codemirror_mode": {
    "name": "ipython",
    "version": 3
   },
   "file_extension": ".py",
   "mimetype": "text/x-python",
   "name": "python",
   "nbconvert_exporter": "python",
   "pygments_lexer": "ipython3",
   "version": "3.9.7"
  }
 },
 "nbformat": 4,
 "nbformat_minor": 5
}
