{
 "cells": [
  {
   "cell_type": "code",
   "execution_count": 35,
   "id": "793ab9ec",
   "metadata": {},
   "outputs": [],
   "source": [
    "import numpy as np\n",
    "import pandas as pd\n",
    "import os\n",
    "import re\n",
    "from sklearn import preprocessing\n",
    "from sklearn.feature_extraction.text import TfidfVectorizer\n",
    "from textblob import TextBlob\n",
    "from catboost import CatBoostClassifier, CatBoostRegressor, CatBoost, Pool\n",
    "from sklearn.model_selection import StratifiedKFold\n",
    "from sklearn.feature_extraction import DictVectorizer\n",
    "from sklearn.metrics import roc_auc_score, accuracy_score, mean_absolute_error\n",
    "from sklearn.model_selection import train_test_split\n",
    "from scipy.sparse import hstack\n",
    "from pymorphy2 import MorphAnalyzer\n",
    "from nltk import sent_tokenize, word_tokenize, regexp_tokenize\n"
   ]
  },
  {
   "cell_type": "code",
   "execution_count": 36,
   "id": "c7238487",
   "metadata": {
    "scrolled": true
   },
   "outputs": [
    {
     "name": "stdout",
     "output_type": "stream",
     "text": [
      "Wall time: 1min 57s\n"
     ]
    }
   ],
   "source": [
    "%%time\n",
    "train = pd.read_csv('E:/juniper_notebooks/Task2_HH/input/train.csv', low_memory=False)\n",
    "test = pd.read_csv('E:/juniper_notebooks/Task2_HH/input/test.csv', low_memory=False)"
   ]
  },
  {
   "cell_type": "code",
   "execution_count": 37,
   "id": "feff6548",
   "metadata": {},
   "outputs": [
    {
     "name": "stdout",
     "output_type": "stream",
     "text": [
      "Wall time: 1h 57min 38s\n",
      "Parser   : 127 ms\n"
     ]
    }
   ],
   "source": [
    "%%time\n",
    "def tokenize_n_normalize(sent, pat=r\"(?u)\\b\\w\\w+\\b\", morph=MorphAnalyzer()):\n",
    "    return [morph.parse(tok)[0].normal_form \n",
    "            for tok in regexp_tokenize(sent, pat)]\n",
    "\n",
    "def text_encoding(train: pd.DataFrame, test: pd.DataFrame, f):\n",
    "    \"\"\"\n",
    "    col_definition: encode_col\n",
    "    \"\"\"\n",
    "    n_train = len(train)\n",
    "    train = pd.concat([train, test], sort=False).reset_index(drop=True)\n",
    "    \n",
    "    train[f] = train[f].fillna('')\n",
    "    train[f] = train[f].map(lambda x: \" \".join(tokenize_n_normalize(x)))\n",
    "    vectorizer=TfidfVectorizer(min_df=0.002)\n",
    "    X_word = vectorizer.fit_transform(train[f])\n",
    "        \n",
    "    test  = X_word[n_train:]#.reset_index(drop=True)\n",
    "    train = X_word[:n_train]\n",
    "    \n",
    "    return train, test\n",
    "\n",
    "newtrain, newtest = text_encoding(train, test, 'responsibilities')"
   ]
  },
  {
   "cell_type": "code",
   "execution_count": 38,
   "id": "db7f4f5f",
   "metadata": {},
   "outputs": [],
   "source": [
    "def label_encoding(train: pd.DataFrame, test: pd.DataFrame, col_definition):\n",
    "   \n",
    "    n_train = len(train)\n",
    "    train = pd.concat([train, test], sort=False).reset_index(drop=True)\n",
    "    train[col_definition] = train[col_definition].fillna('')    \n",
    "    \n",
    "    enc = DictVectorizer()\n",
    "    X_cal = enc.fit_transform(train[col_definition].to_dict('records'))\n",
    "    \n",
    "    test = X_cal[n_train:]\n",
    "    train = X_cal[:n_train]\n",
    "    return train, test"
   ]
  },
  {
   "cell_type": "code",
   "execution_count": 39,
   "id": "e0985ff9",
   "metadata": {},
   "outputs": [
    {
     "name": "stdout",
     "output_type": "stream",
     "text": [
      "Wall time: 0 ns\n"
     ]
    }
   ],
   "source": [
    "%time\n",
    "categorical_cols = ['requirements_id_priority_category',\n",
    "                    'is_uzbekistan_recruitment',\n",
    "                    'source',\n",
    "                    'industry',\n",
    "                    'education_requirements_education_type',\n",
    "                    'experience_requirements',\n",
    "                    'id_hiring_organization',\n",
    "                    'profession',\n",
    "                    'region']\n",
    "\n",
    "col_train, col_newtest = label_encoding(train, test, categorical_cols)"
   ]
  },
  {
   "cell_type": "code",
   "execution_count": 40,
   "id": "e5b6f673",
   "metadata": {},
   "outputs": [],
   "source": [
    "X_train = hstack((newtrain,col_train)) \n",
    "X_test = hstack((newtest,col_newtest)) "
   ]
  },
  {
   "cell_type": "code",
   "execution_count": 41,
   "id": "33a47d3d",
   "metadata": {},
   "outputs": [],
   "source": [
    "X_train = X_train.tocsr()"
   ]
  },
  {
   "cell_type": "code",
   "execution_count": 1,
   "id": "4c4ecb77",
   "metadata": {},
   "outputs": [
    {
     "ename": "NameError",
     "evalue": "name 'train_test_split' is not defined",
     "output_type": "error",
     "traceback": [
      "\u001b[1;31m---------------------------------------------------------------------------\u001b[0m",
      "\u001b[1;31mNameError\u001b[0m                                 Traceback (most recent call last)",
      "\u001b[1;32m<timed exec>\u001b[0m in \u001b[0;36m<module>\u001b[1;34m\u001b[0m\n",
      "\u001b[1;31mNameError\u001b[0m: name 'train_test_split' is not defined"
     ]
    }
   ],
   "source": [
    "%%time\n",
    "num_t = 800000\n",
    "X_train1, X_test1, y_train1, y_test1 = train_test_split(X_train[:num_t],train['mean_salary'][:num_t],test_size=0.10, random_state = 0)\n",
    "train_pool = Pool(\n",
    "    X_train1, \n",
    "    y_train1\n",
    "    \n",
    ")\n",
    "valid_pool = Pool(\n",
    "    X_test1, \n",
    "    y_test1\n",
    ")\n",
    "\n",
    "catboost_params = {\n",
    "    'learning_rate': 0.9999,\n",
    "    'eval_metric': 'MAE',\n",
    "    'iterations': 20000,\n",
    "    'use_best_model': True,\n",
    "    'verbose': False,\n",
    "    'early_stopping_rounds': 100,\n",
    "    'depth': 6\n",
    "}\n",
    "model = CatBoostRegressor(**catboost_params)\n",
    "model.fit(train_pool, eval_set=valid_pool, plot=True)\n"
   ]
  },
  {
   "cell_type": "code",
   "execution_count": 43,
   "id": "c80ee6a4",
   "metadata": {},
   "outputs": [],
   "source": [
    "y_pred = model.predict(X_train[-40000:])\n",
    "y_test = train['mean_salary'][-40000:]"
   ]
  },
  {
   "cell_type": "code",
   "execution_count": 44,
   "id": "8ee88cdc",
   "metadata": {},
   "outputs": [
    {
     "name": "stdout",
     "output_type": "stream",
     "text": [
      "5172.396911516417\n"
     ]
    }
   ],
   "source": [
    "print(mean_absolute_error(y_test, y_pred))"
   ]
  },
  {
   "cell_type": "code",
   "execution_count": 25,
   "id": "9420baed",
   "metadata": {},
   "outputs": [],
   "source": [
    "#5547 1.5#############################################################################################и"
   ]
  },
  {
   "cell_type": "code",
   "execution_count": 45,
   "id": "0cb944c2",
   "metadata": {},
   "outputs": [],
   "source": [
    "y_pred = model.predict(X_test)"
   ]
  },
  {
   "cell_type": "code",
   "execution_count": 46,
   "id": "dc6e457a",
   "metadata": {},
   "outputs": [],
   "source": [
    "sub = pd.read_csv('E:/juniper_notebooks/Task2_HH/input/sample_submission.csv',index_col = 'id')\n",
    "sub['mean_salary'] = y_pred\n",
    "sub.to_csv('submission.csv')"
   ]
  },
  {
   "cell_type": "code",
   "execution_count": null,
   "id": "e4062dec",
   "metadata": {},
   "outputs": [],
   "source": []
  }
 ],
 "metadata": {
  "kernelspec": {
   "display_name": "Python 3 (ipykernel)",
   "language": "python",
   "name": "python3"
  },
  "language_info": {
   "codemirror_mode": {
    "name": "ipython",
    "version": 3
   },
   "file_extension": ".py",
   "mimetype": "text/x-python",
   "name": "python",
   "nbconvert_exporter": "python",
   "pygments_lexer": "ipython3",
   "version": "3.9.7"
  }
 },
 "nbformat": 4,
 "nbformat_minor": 5
}
