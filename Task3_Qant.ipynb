{
 "cells": [
  {
   "cell_type": "code",
   "execution_count": 1,
   "id": "42de6fa7",
   "metadata": {},
   "outputs": [],
   "source": [
    "import os\n",
    "os.environ[\"KMP_DUPLICATE_LIB_OK\"]=\"TRUE\""
   ]
  },
  {
   "cell_type": "code",
   "execution_count": 2,
   "id": "dfba2ec4",
   "metadata": {},
   "outputs": [],
   "source": [
    "from ase.db import connect\n",
    "import schnetpack\n",
    "\n",
    "database_path = \"C:/Users/Yakov/Documents/_notebooks/juniper_notebooks/Task3_Qant/train.db\"  # Путь к файлу базы данных\n",
    "dataset = schnetpack.data.AtomsData(database_path)"
   ]
  },
  {
   "cell_type": "code",
   "execution_count": 3,
   "id": "5cd29ab0",
   "metadata": {},
   "outputs": [
    {
     "name": "stdout",
     "output_type": "stream",
     "text": [
      "Number of reference calculations: 138365\n",
      "Available properties:\n",
      "- energy\n"
     ]
    }
   ],
   "source": [
    "print('Number of reference calculations:', len(dataset))\n",
    "print('Available properties:')\n",
    "\n",
    "for p in dataset.available_properties:\n",
    "    print('-', p)"
   ]
  },
  {
   "cell_type": "code",
   "execution_count": 4,
   "id": "faf85c0e",
   "metadata": {},
   "outputs": [
    {
     "name": "stdout",
     "output_type": "stream",
     "text": [
      "Properties:\n",
      "- energy : torch.Size([1])\n",
      "- _atomic_numbers : torch.Size([44])\n",
      "- _positions : torch.Size([44, 3])\n",
      "- _neighbors : torch.Size([44, 43])\n",
      "- _cell : torch.Size([3, 3])\n",
      "- _cell_offset : torch.Size([44, 43, 3])\n",
      "- _idx : torch.Size([1])\n"
     ]
    }
   ],
   "source": [
    "example = dataset[0]\n",
    "print('Properties:')\n",
    "\n",
    "for k, v in example.items():\n",
    "    print('-', k, ':', v.shape)"
   ]
  },
  {
   "cell_type": "code",
   "execution_count": 5,
   "id": "009e149a",
   "metadata": {},
   "outputs": [
    {
     "name": "stdout",
     "output_type": "stream",
     "text": [
      "Atoms object: Atoms(symbols='C4SCNC3ONCONCNC7H20', pbc=False)\n"
     ]
    }
   ],
   "source": [
    "at = dataset.get_atoms(idx=0)\n",
    "print('Atoms object:', at)\n",
    "\n",
    "at2, props = dataset.get_properties(idx=0)"
   ]
  },
  {
   "cell_type": "code",
   "execution_count": 6,
   "id": "60d177cb",
   "metadata": {},
   "outputs": [
    {
     "name": "stdout",
     "output_type": "stream",
     "text": [
      "Total energy at 0K: [-1426.323]\n"
     ]
    }
   ],
   "source": [
    "print('Total energy at 0K:', props['energy'])"
   ]
  },
  {
   "cell_type": "code",
   "execution_count": 7,
   "id": "baf4e2c5",
   "metadata": {},
   "outputs": [],
   "source": [
    "train, val, test = schnetpack.train_test_split(\n",
    "        data=dataset,\n",
    "        num_train=len(dataset)*0.8,\n",
    "        num_val=len(dataset)*0.2,\n",
    "        split_file=(\"split.npz\"),\n",
    "    )"
   ]
  },
  {
   "cell_type": "code",
   "execution_count": 8,
   "id": "62fad0e7",
   "metadata": {},
   "outputs": [],
   "source": [
    "train_loader = schnetpack.AtomsLoader(train, batch_size=100, shuffle=True)\n",
    "val_loader = schnetpack.AtomsLoader(val, batch_size=100)"
   ]
  },
  {
   "cell_type": "code",
   "execution_count": 9,
   "id": "300abef8",
   "metadata": {},
   "outputs": [
    {
     "name": "stdout",
     "output_type": "stream",
     "text": [
      "Mean atomization energy / atom: tensor([-30.5628])\n",
      "Std. dev. atomization energy / atom: tensor([11.7278])\n"
     ]
    }
   ],
   "source": [
    "atomrefs = dataset.get_atomref('energy')\n",
    "means, stddevs = train_loader.get_statistics(\n",
    "    'energy', divide_by_atoms=True, single_atom_ref=atomrefs\n",
    ")\n",
    "print('Mean atomization energy / atom:', means['energy'])\n",
    "print('Std. dev. atomization energy / atom:', stddevs['energy'])"
   ]
  },
  {
   "cell_type": "code",
   "execution_count": 10,
   "id": "0d93a850",
   "metadata": {},
   "outputs": [],
   "source": [
    "schnet = schnetpack.representation.SchNet(\n",
    "    n_atom_basis=30, n_filters=30, n_gaussians=20, n_interactions=5,\n",
    "    cutoff=4., cutoff_network=schnetpack.nn.cutoff.CosineCutoff\n",
    ")\n",
    "\n",
    "output_U0 = schnetpack.atomistic.Atomwise(n_in=30, atomref=atomrefs['energy'], property='energy',\n",
    "                                   mean=means['energy'], stddev=stddevs['energy'])\n",
    "model = schnetpack.AtomisticModel(representation=schnet, output_modules=output_U0)"
   ]
  },
  {
   "cell_type": "code",
   "execution_count": 11,
   "id": "76573882",
   "metadata": {},
   "outputs": [],
   "source": [
    "from torch.optim import Adam\n",
    "\n",
    "# loss function\n",
    "def mse_loss(batch, result):\n",
    "    diff = batch['energy']-result['energy']\n",
    "    err_sq = torch.mean(diff ** 2)\n",
    "    return err_sq\n",
    "\n",
    "# build optimizer\n",
    "optimizer = Adam(model.parameters(), lr=0.01)"
   ]
  },
  {
   "cell_type": "code",
   "execution_count": 12,
   "id": "2db7a462",
   "metadata": {},
   "outputs": [
    {
     "data": {
      "text/plain": [
       "<generator object Module.parameters at 0x0000013FBD063510>"
      ]
     },
     "execution_count": 12,
     "metadata": {},
     "output_type": "execute_result"
    }
   ],
   "source": [
    "model.parameters()"
   ]
  },
  {
   "cell_type": "code",
   "execution_count": 13,
   "id": "b63117fd",
   "metadata": {},
   "outputs": [],
   "source": [
    "# before setting up the trainer, remove previous training checkpoints and logs\n",
    "#%rm -r ./qm9tut/checkpoints\n",
    "#%rm -r ./qm9tut/log.csv\n",
    "\n",
    "import schnetpack.train as trn\n",
    "qm9tut = \"C:/Users/Yakov/Documents/_notebooks/juniper_notebooks/Task3_Qant/logs\"\n",
    "loss = trn.build_mse_loss(['energy'])\n",
    "\n",
    "metrics = [schnetpack.metrics.MeanAbsoluteError('energy')]\n",
    "hooks = [\n",
    "    trn.CSVHook(log_path=qm9tut, metrics=metrics),\n",
    "    trn.ReduceLROnPlateauHook(\n",
    "        optimizer,\n",
    "        patience=5, factor=0.8, min_lr=1e-6,\n",
    "        stop_after_min=True\n",
    "    )\n",
    "]\n",
    "\n",
    "trainer = trn.Trainer(\n",
    "    model_path=qm9tut,\n",
    "    model=model,\n",
    "    hooks=hooks,\n",
    "    loss_fn=loss,\n",
    "    optimizer=optimizer,\n",
    "    train_loader=train_loader,\n",
    "    validation_loader=val_loader,\n",
    ")"
   ]
  },
  {
   "cell_type": "code",
   "execution_count": 14,
   "id": "ea1a3d0f",
   "metadata": {
    "scrolled": true
   },
   "outputs": [],
   "source": [
    "device = \"cuda\" # change to 'cpu' if gpu is not available\n",
    "n_epochs = 1000 # takes about 10 min on a notebook GPU. reduces for playing around\n",
    "trainer.train(device=device, n_epochs=n_epochs)"
   ]
  },
  {
   "cell_type": "code",
   "execution_count": 15,
   "id": "df7888dd",
   "metadata": {},
   "outputs": [
    {
     "name": "stdout",
     "output_type": "stream",
     "text": [
      "Final validation MAE: 0.59 eV = 13.63 kcal/mol\n"
     ]
    },
    {
     "data": {
      "image/png": "[encoded data removed]",
      "text/plain": [
       "<Figure size 1008x360 with 2 Axes>"
      ]
     },
     "metadata": {
      "needs_background": "light"
     },
     "output_type": "display_data"
    }
   ],
   "source": [
    "import numpy as np\n",
    "import matplotlib.pyplot as plt\n",
    "import os\n",
    "from ase.units import kcal, mol\n",
    "qm9tut = \"C:/Users/Yakov/Documents/_notebooks/juniper_notebooks/Task3_Qant/logs\"\n",
    "results = np.loadtxt(os.path.join(qm9tut, 'log.csv'), skiprows=1, delimiter=',')\n",
    "\n",
    "time = results[:,0]-results[0,0]\n",
    "learning_rate = results[:,1]\n",
    "train_loss = results[:,2]\n",
    "val_loss = results[:,3]\n",
    "val_mae = results[:,4]\n",
    "\n",
    "print('Final validation MAE:', np.round(val_mae[-1], 2), 'eV =',\n",
    "      np.round(val_mae[-1] / (kcal/mol), 2), 'kcal/mol')\n",
    "\n",
    "plt.figure(figsize=(14,5))\n",
    "plt.subplot(1,2,1)\n",
    "plt.plot(time, val_loss, label='Validation')\n",
    "plt.plot(time, train_loss, label='Train')\n",
    "plt.yscale('log')\n",
    "plt.ylabel('Loss [eV]')\n",
    "plt.xlabel('Time [s]')\n",
    "plt.legend()\n",
    "plt.subplot(1,2,2)\n",
    "plt.plot(time, val_mae)\n",
    "plt.ylabel('mean abs. error [eV]')\n",
    "plt.xlabel('Time [s]')\n",
    "plt.show()"
   ]
  },
  {
   "cell_type": "code",
   "execution_count": 16,
   "id": "ea40c0e0",
   "metadata": {},
   "outputs": [
    {
     "name": "stdout",
     "output_type": "stream",
     "text": [
      "70905\n",
      "Progress: 100.00%.81% 2.32% 9.06%  10.67%26.84%28.75%28.88% 41.09%64.17%64.77%79.34%79.87%85.07%\r"
     ]
    }
   ],
   "source": [
    "import torch\n",
    "\n",
    "qm9tut = \"C:/Users/Yakov/Documents/_notebooks/juniper_notebooks/Task3_Qant/logs\"\n",
    "best_model = torch.load(os.path.join(qm9tut, 'best_model'))\n",
    "\n",
    "#test_loader = spk.AtomsLoader(test, batch_size=100)\n",
    "test_path = \"C:/Users/Yakov/Documents/_notebooks/juniper_notebooks/Task3_Qant/test.db\" \n",
    "test_data = schnetpack.data.AtomsData(test_path)\n",
    "test_loader = schnetpack.AtomsLoader(test_data, batch_size=1)\n",
    "\n",
    "\n",
    "y_pred = []\n",
    "counter = []\n",
    "err = 0\n",
    "i=1\n",
    "print(len(test_loader))\n",
    "for count, batch in enumerate(test_loader):\n",
    "    \n",
    "    batch = {k: v.to(device) for k, v in batch.items()}\n",
    "\n",
    "    # apply model\n",
    "    pred = best_model(batch)\n",
    "    \n",
    "    counter.append(i)\n",
    "    y_pred.append(pred['energy'].cpu().detach().numpy()[0][0])    \n",
    "   \n",
    "    # log progress\n",
    "    percent = '{:3.2f}'.format(count/len(test_loader)*100)\n",
    "    print('Progress:', percent+'%'+' '*(5-len(percent)), end=\"\\r\")\n",
    "    i = i+1 \n",
    "#err /= len(test)\n",
    "#print('Test MAE', np.round(err, 2), 'eV =',\n",
    "#      np.round(err / (kcal/mol), 2), 'kcal/mol')"
   ]
  },
  {
   "cell_type": "code",
   "execution_count": 17,
   "id": "587111f9",
   "metadata": {},
   "outputs": [],
   "source": [
    "import pandas as pd\n",
    "sub = pd.read_csv('C:/Users/Yakov/Documents/_notebooks/juniper_notebooks/Task3_Qant/sample_submission.csv',index_col = 'id')\n",
    "sub['energy'] = y_pred\n",
    "sub.to_csv('submission_1.csv')"
   ]
  },
  {
   "cell_type": "code",
   "execution_count": 18,
   "id": "0e2cae12",
   "metadata": {},
   "outputs": [
    {
     "ename": "NameError",
     "evalue": "name 'mae' is not defined",
     "output_type": "error",
     "traceback": [
      "\u001b[1;31m---------------------------------------------------------------------------\u001b[0m",
      "\u001b[1;31mNameError\u001b[0m                                 Traceback (most recent call last)",
      "\u001b[1;32m~\\AppData\\Local\\Temp/ipykernel_11664/4291680142.py\u001b[0m in \u001b[0;36m<module>\u001b[1;34m\u001b[0m\n\u001b[1;32m----> 1\u001b[1;33m \u001b[0mmae\u001b[0m \u001b[1;33m-\u001b[0m\u001b[1;36m0.07\u001b[0m\u001b[1;33m\u001b[0m\u001b[1;33m\u001b[0m\u001b[0m\n\u001b[0m",
      "\u001b[1;31mNameError\u001b[0m: name 'mae' is not defined"
     ]
    }
   ],
   "source": [
    "mae -0.07"
   ]
  }
 ],
 "metadata": {
  "kernelspec": {
   "display_name": "Python 3 (ipykernel)",
   "language": "python",
   "name": "python3"
  },
  "language_info": {
   "codemirror_mode": {
    "name": "ipython",
    "version": 3
   },
   "file_extension": ".py",
   "mimetype": "text/x-python",
   "name": "python",
   "nbconvert_exporter": "python",
   "pygments_lexer": "ipython3",
   "version": "3.9.7"
  }
 },
 "nbformat": 4,
 "nbformat_minor": 5
}
